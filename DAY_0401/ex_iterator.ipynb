{
 "cells": [
  {
   "cell_type": "markdown",
   "metadata": {},
   "source": [
    "### [iterator 살펴보기]\n",
    "- iterable : for ~ in으로 요소 제어 가능한 자료형 => List, Tuple, Str, ..., __iter__() 메소드 가진 자료형\n",
    "- iterator : iter() 함수로 생성, next() 메서드를 내장하고 있는 자료형"
   ]
  },
  {
   "cell_type": "code",
   "execution_count": 48,
   "metadata": {},
   "outputs": [],
   "source": [
    "a = [10, 20]\n",
    "\n",
    "# next(a)  # iterator 객체 아님"
   ]
  },
  {
   "cell_type": "code",
   "execution_count": 49,
   "metadata": {},
   "outputs": [
    {
     "data": {
      "text/plain": [
       "(10, 20)"
      ]
     },
     "execution_count": 49,
     "metadata": {},
     "output_type": "execute_result"
    }
   ],
   "source": [
    "# iter(데이터) : iterator 인스턴스 생성\n",
    "b = iter(a)\n",
    "next(b), next(b)"
   ]
  },
  {
   "cell_type": "code",
   "execution_count": 50,
   "metadata": {},
   "outputs": [],
   "source": [
    "# 더이상 가져올 데이터가 없는 경우 ERROR 발생\n",
    "# next(b)  # StopIteration 발생"
   ]
  },
  {
   "cell_type": "markdown",
   "metadata": {},
   "source": [
    "### [제너레이터 함수] <hr>\n",
    "- 형식 : def 함수명() : yield값 반환\n",
    "- 코드 실행 후 결과를 반환\n",
    "- 실행된 상태 정보 유지 => 다시 호출되면 이전 실행 정보를 바탕으로 동작함\n",
    "- 장점 : 대량의 데이터 처리에 대해서 메모리 효율적 즉, 현재 실행되는 만큼 메모리 사용"
   ]
  },
  {
   "cell_type": "code",
   "execution_count": 51,
   "metadata": {},
   "outputs": [],
   "source": [
    "def make_value():\n",
    "    data = [10, 20, 30, 40]\n",
    "    return data * 10"
   ]
  },
  {
   "cell_type": "code",
   "execution_count": 52,
   "metadata": {},
   "outputs": [
    {
     "data": {
      "text/plain": [
       "(function,\n",
       " [10,\n",
       "  20,\n",
       "  30,\n",
       "  40,\n",
       "  10,\n",
       "  20,\n",
       "  30,\n",
       "  40,\n",
       "  10,\n",
       "  20,\n",
       "  30,\n",
       "  40,\n",
       "  10,\n",
       "  20,\n",
       "  30,\n",
       "  40,\n",
       "  10,\n",
       "  20,\n",
       "  30,\n",
       "  40,\n",
       "  10,\n",
       "  20,\n",
       "  30,\n",
       "  40,\n",
       "  10,\n",
       "  20,\n",
       "  30,\n",
       "  40,\n",
       "  10,\n",
       "  20,\n",
       "  30,\n",
       "  40,\n",
       "  10,\n",
       "  20,\n",
       "  30,\n",
       "  40,\n",
       "  10,\n",
       "  20,\n",
       "  30,\n",
       "  40])"
      ]
     },
     "execution_count": 52,
     "metadata": {},
     "output_type": "execute_result"
    }
   ],
   "source": [
    "type(make_value), make_value()"
   ]
  },
  {
   "cell_type": "code",
   "execution_count": 53,
   "metadata": {},
   "outputs": [
    {
     "data": {
      "text/plain": [
       "(function, <generator object make_value2 at 0x000001A71B17C3C0>)"
      ]
     },
     "execution_count": 53,
     "metadata": {},
     "output_type": "execute_result"
    }
   ],
   "source": [
    "def make_value2():\n",
    "    data = [10, 20, 30, 40]\n",
    "    yield data * 3\n",
    "\n",
    "type(make_value2), make_value2()"
   ]
  },
  {
   "cell_type": "code",
   "execution_count": 54,
   "metadata": {},
   "outputs": [
    {
     "data": {
      "text/plain": [
       "<method-wrapper '__next__' of generator object at 0x000001A71B17C580>"
      ]
     },
     "execution_count": 54,
     "metadata": {},
     "output_type": "execute_result"
    }
   ],
   "source": [
    "m2 = make_value2()\n",
    "m2.__next__"
   ]
  },
  {
   "cell_type": "code",
   "execution_count": 55,
   "metadata": {},
   "outputs": [],
   "source": [
    "class A:\n",
    "\n",
    "    def __init__(self, data):\n",
    "        self.data = data\n",
    "\n",
    "    # 연산자 오버라이딩\n",
    "    def __add__(self, other):\n",
    "        return self.data + other.data\n",
    "    \n",
    "    # A 인스턴스끼리 뺄셈(-) 연산 진행 시 호출되는 메서드\n",
    "    def __sub__(self, other):\n",
    "        return self.data - other.data\n",
    "\n",
    "    def __next__(self):\n",
    "        return self.data*10"
   ]
  },
  {
   "cell_type": "code",
   "execution_count": 56,
   "metadata": {},
   "outputs": [
    {
     "data": {
      "text/plain": [
       "(15, 5)"
      ]
     },
     "execution_count": 56,
     "metadata": {},
     "output_type": "execute_result"
    }
   ],
   "source": [
    "a1, a2 = A(10), A(5)\n",
    "\n",
    "a1 + a2, a1 - a2"
   ]
  },
  {
   "cell_type": "code",
   "execution_count": 57,
   "metadata": {},
   "outputs": [
    {
     "name": "stdout",
     "output_type": "stream",
     "text": [
      "<class 'generator'>\n"
     ]
    },
    {
     "data": {
      "text/plain": [
       "[10, 20, 30, 40, 10, 20, 30, 40, 10, 20, 30, 40]"
      ]
     },
     "execution_count": 57,
     "metadata": {},
     "output_type": "execute_result"
    }
   ],
   "source": [
    "m2 = make_value2()\n",
    "print(type(m2))\n",
    "next(m2)"
   ]
  },
  {
   "cell_type": "code",
   "execution_count": 58,
   "metadata": {},
   "outputs": [],
   "source": [
    "# 여러 개의 데이터를 처리하는 함수와 제너레이터\n",
    "def many_data():\n",
    "    for n in range(50):\n",
    "        print(n, end = ' ')\n",
    "    \n",
    "def many_data2():\n",
    "    for n in range(50):\n",
    "        yield print(n)"
   ]
  },
  {
   "cell_type": "code",
   "execution_count": 59,
   "metadata": {},
   "outputs": [
    {
     "name": "stdout",
     "output_type": "stream",
     "text": [
      "0 1 2 3 4 5 6 7 8 9 10 11 12 13 14 15 16 17 18 19 20 21 22 23 24 25 26 27 28 29 30 31 32 33 34 35 36 37 38 39 40 41 42 43 44 45 46 47 48 49 "
     ]
    }
   ],
   "source": [
    "many_data()"
   ]
  },
  {
   "cell_type": "code",
   "execution_count": 60,
   "metadata": {},
   "outputs": [
    {
     "name": "stdout",
     "output_type": "stream",
     "text": [
      "0\n",
      "1\n",
      "2\n"
     ]
    }
   ],
   "source": [
    "md2 = many_data2()\n",
    "next(md2)\n",
    "next(md2)\n",
    "next(md2)"
   ]
  },
  {
   "cell_type": "code",
   "execution_count": 61,
   "metadata": {},
   "outputs": [],
   "source": [
    "# List\n",
    "a = [value for value in range(100)]\n",
    "\n",
    "# Dict\n",
    "b = {k : k*5 for k in range(100)}\n"
   ]
  },
  {
   "cell_type": "code",
   "execution_count": 62,
   "metadata": {},
   "outputs": [
    {
     "name": "stdout",
     "output_type": "stream",
     "text": [
      "get => <generator object generator_func at 0x000001A71B17CEB0>\n"
     ]
    }
   ],
   "source": [
    "def generator_func():\n",
    "    for i in [11, 22, 33]:\n",
    "        yield i\n",
    "\n",
    "gen = generator_func()\n",
    "print(f'get => {gen}')"
   ]
  },
  {
   "cell_type": "code",
   "execution_count": 63,
   "metadata": {},
   "outputs": [],
   "source": [
    "def generator_func():\n",
    "    a = [11, 22, 33]\n",
    "    yield from a"
   ]
  },
  {
   "cell_type": "code",
   "execution_count": 64,
   "metadata": {},
   "outputs": [
    {
     "name": "stdout",
     "output_type": "stream",
     "text": [
      "11\n",
      "22\n",
      "33\n"
     ]
    }
   ],
   "source": [
    "for value in gen:\n",
    "    print(value)"
   ]
  },
  {
   "cell_type": "code",
   "execution_count": 65,
   "metadata": {},
   "outputs": [
    {
     "name": "stdout",
     "output_type": "stream",
     "text": [
      "<class 'generator'>\n"
     ]
    },
    {
     "data": {
      "text/plain": [
       "(0, 1, 4)"
      ]
     },
     "execution_count": 65,
     "metadata": {},
     "output_type": "execute_result"
    }
   ],
   "source": [
    "square_gen = (num**2 for num in range(5))\n",
    "print(type(square_gen))\n",
    "next(square_gen), next(square_gen), next(square_gen)"
   ]
  }
 ],
 "metadata": {
  "kernelspec": {
   "display_name": "Torch_NLP38",
   "language": "python",
   "name": "python3"
  },
  "language_info": {
   "codemirror_mode": {
    "name": "ipython",
    "version": 3
   },
   "file_extension": ".py",
   "mimetype": "text/x-python",
   "name": "python",
   "nbconvert_exporter": "python",
   "pygments_lexer": "ipython3",
   "version": "3.8.19"
  }
 },
 "nbformat": 4,
 "nbformat_minor": 2
}
