{
 "cells": [
  {
   "cell_type": "markdown",
   "metadata": {},
   "source": [
    "#### 토큰화(Tokenizer)\n",
    "- 문장을 의미있는 최소 단위로 나누는 것\n",
    "- 최소 단위 => 단어, 글자, 문장"
   ]
  },
  {
   "cell_type": "markdown",
   "metadata": {},
   "source": [
    "[1] 자모 단위 토큰화 : 자음과 모음으로 토큰화\n",
    "- 추가 라이브러리 설치 : pip install jamo"
   ]
  },
  {
   "cell_type": "code",
   "execution_count": null,
   "metadata": {},
   "outputs": [
    {
     "name": "stdout",
     "output_type": "stream",
     "text": [
      "Defaulting to user installation because normal site-packages is not writeable\n",
      "Collecting jamo\n",
      "  Downloading jamo-0.4.1-py3-none-any.whl.metadata (2.3 kB)\n",
      "Downloading jamo-0.4.1-py3-none-any.whl (9.5 kB)\n",
      "Installing collected packages: jamo\n",
      "Successfully installed jamo-0.4.1\n"
     ]
    }
   ],
   "source": [
    "#!pip install jamo"
   ]
  },
  {
   "cell_type": "code",
   "execution_count": 4,
   "metadata": {},
   "outputs": [
    {
     "name": "stdout",
     "output_type": "stream",
     "text": [
      "좋은 날\n"
     ]
    }
   ],
   "source": [
    "# 모듈 로딩\n",
    "import jamo\n",
    "\n",
    "# 완성형 단어 ===> 조합형으로 변환\n",
    "msg = '좋은 날'\n",
    "\n",
    "result1 = jamo.h2j(msg)\n",
    "print(result1)"
   ]
  },
  {
   "cell_type": "code",
   "execution_count": 5,
   "metadata": {},
   "outputs": [
    {
     "name": "stdout",
     "output_type": "stream",
     "text": [
      "ㅈㅗㅎㅇㅡㄴ ㄴㅏㄹ\n"
     ]
    }
   ],
   "source": [
    "# 조합형 단어 ===> 자모 형태로 변환\n",
    "result2 = jamo.j2hcj(result1)\n",
    "\n",
    "print(result2)"
   ]
  },
  {
   "cell_type": "markdown",
   "metadata": {},
   "source": [
    "[2] 다양한 한국어 형태소 분석기"
   ]
  },
  {
   "cell_type": "code",
   "execution_count": 13,
   "metadata": {},
   "outputs": [],
   "source": [
    "# KoNlpy의 Okt 형태소 분석\n",
    "from konlpy.tag import Okt\n",
    "\n",
    "# 인스턴스 생성\n",
    "okt = Okt()\n",
    "\n",
    "# 분석 문장\n",
    "msg = '오늘 저녁에 실증랩 PC 성능 테스트를 진행할 예정입니다.'"
   ]
  },
  {
   "cell_type": "code",
   "execution_count": 16,
   "metadata": {},
   "outputs": [
    {
     "name": "stdout",
     "output_type": "stream",
     "text": [
      "[명사] => ['오늘', '저녁', '실증', '랩', '성능', '테스트', '진행', '예정']\n",
      "\n",
      "[형태소] => ['오늘', '저녁', '에', '실증', '랩', 'PC', '성능', '테스트', '를', '진행', '할', '예정', '입니다', '.']\n",
      "\n",
      "[구문] => ['오늘', '오늘 저녁', '실증랩', '실증랩 PC', '실증랩 PC 성능', '실증랩 PC 성능 테스트', '진행', '진행할 예정', '저녁', '실증', 'PC', '성능', '테스트', '예정']\n",
      "\n",
      "[품사] => [('오늘', 'Noun'), ('저녁', 'Noun'), ('에', 'Josa'), ('실증', 'Noun'), ('랩', 'Noun'), ('PC', 'Alpha'), ('성능', 'Noun'), ('테스트', 'Noun'), ('를', 'Josa'), ('진행', 'Noun'), ('할', 'Verb'), ('예정', 'Noun'), ('입니다', 'Adjective'), ('.', 'Punctuation')]\n",
      "\n"
     ]
    }
   ],
   "source": [
    "# 명사, 형태소, 문장, 품사 분석\n",
    "print('[명사] =>', okt.nouns(msg), end = '\\n\\n')\n",
    "print('[형태소] =>', okt.morphs(msg), end = '\\n\\n')\n",
    "print('[구문] =>', okt.phrases(msg), end = '\\n\\n')\n",
    "print('[품사] =>', okt.pos(msg), end = '\\n\\n')"
   ]
  },
  {
   "cell_type": "code",
   "execution_count": 17,
   "metadata": {},
   "outputs": [],
   "source": [
    "# KoNlpy의 Okt 형태소 분석\n",
    "from konlpy.tag import Kkma\n",
    "\n",
    "# 인스턴스 생성\n",
    "kkma = Kkma()\n",
    "\n",
    "# 분석 문장\n",
    "msg = '오늘 저녁에 실증랩 PC 성능 테스트를 진행할 예정입니다.'"
   ]
  },
  {
   "cell_type": "code",
   "execution_count": 19,
   "metadata": {},
   "outputs": [
    {
     "name": "stdout",
     "output_type": "stream",
     "text": [
      "[명사] => ['오늘', '저녁', '실증', '실증랩', '랩', '성능', '테스트', '진행', '예정']\n",
      "\n",
      "[형태소] => ['오늘', '저녁', '에', '실증', '랩', 'PC', '성능', '테스트', '를', '진행', '하', 'ㄹ', '예정', '이', 'ㅂ니다', '.']\n",
      "\n",
      "[품사] => [('오늘', 'NNG'), ('저녁', 'NNG'), ('에', 'JKM'), ('실증', 'NNG'), ('랩', 'NNG'), ('PC', 'OL'), ('성능', 'NNG'), ('테스트', 'NNG'), ('를', 'JKO'), ('진행', 'NNG'), ('하', 'XSV'), ('ㄹ', 'ETD'), ('예정', 'NNG'), ('이', 'VCP'), ('ㅂ니다', 'EFN'), ('.', 'SF')]\n",
      "\n"
     ]
    }
   ],
   "source": [
    "# 명사, 형태소, 문장, 품사 분석\n",
    "print('[명사] =>', kkma.nouns(msg), end = '\\n\\n')\n",
    "print('[형태소] =>', kkma.morphs(msg), end = '\\n\\n')\n",
    "print('[품사] =>', kkma.pos(msg), end = '\\n\\n')"
   ]
  },
  {
   "cell_type": "code",
   "execution_count": 21,
   "metadata": {},
   "outputs": [],
   "source": [
    "# KoNlpy의 Komoran 형태소 분석\n",
    "from konlpy.tag import Komoran\n",
    "\n",
    "# 인스턴스 생성\n",
    "Komoran = Komoran()\n",
    "\n",
    "# 분석 문장\n",
    "msg = '오늘 저녁에 실증랩 PC 성능 테스트를 진행할 예정입니다.'"
   ]
  },
  {
   "cell_type": "code",
   "execution_count": 22,
   "metadata": {},
   "outputs": [
    {
     "name": "stdout",
     "output_type": "stream",
     "text": [
      "[명사] => ['오늘', '저녁', '실증', '랩', '성능', '테스트', '진행', '예정']\n",
      "\n",
      "[형태소] => ['오늘', '저녁', '에', '실증', '랩', 'PC', '성능', '테스트', '를', '진행', '하', 'ㄹ', '예정', '이', 'ㅂ니다', '.']\n",
      "\n",
      "[품사] => [('오늘', 'NNG'), ('저녁', 'NNG'), ('에', 'JKB'), ('실증', 'NNG'), ('랩', 'NNG'), ('PC', 'SL'), ('성능', 'NNP'), ('테스트', 'NNP'), ('를', 'JKO'), ('진행', 'NNG'), ('하', 'XSV'), ('ㄹ', 'ETM'), ('예정', 'NNG'), ('이', 'VCP'), ('ㅂ니다', 'EF'), ('.', 'SF')]\n",
      "\n"
     ]
    }
   ],
   "source": [
    "# 명사, 형태소, 문장, 품사 분석\n",
    "print('[명사] =>', Komoran.nouns(msg), end = '\\n\\n')\n",
    "print('[형태소] =>', Komoran.morphs(msg), end = '\\n\\n')\n",
    "print('[품사] =>', Komoran.pos(msg), end = '\\n\\n')"
   ]
  },
  {
   "cell_type": "markdown",
   "metadata": {},
   "source": [
    "### NLTK <hr>\n",
    "- 한글 미지원"
   ]
  },
  {
   "cell_type": "code",
   "execution_count": 27,
   "metadata": {},
   "outputs": [
    {
     "name": "stdout",
     "output_type": "stream",
     "text": [
      "[단어 단위] ['happy', 'New', 'Year', '!', 'Merry', 'Christmas']\n",
      "[문장 단위] ['happy New Year!', 'Merry Christmas']\n"
     ]
    }
   ],
   "source": [
    "# 형태소 분석\n",
    "from nltk import tokenize\n",
    "\n",
    "msg = 'happy New Year! Merry Christmas'\n",
    "\n",
    "# 단어 단위 형태소\n",
    "result1 = tokenize.word_tokenize(msg)\n",
    "\n",
    "# 문장 단위 형태소\n",
    "result2 = tokenize.sent_tokenize(msg)\n",
    "\n",
    "print(f'[단어 단위] {result1}')\n",
    "print(f'[문장 단위] {result2}')"
   ]
  },
  {
   "cell_type": "code",
   "execution_count": 28,
   "metadata": {},
   "outputs": [
    {
     "data": {
      "text/plain": [
       "['happy', 'New', 'Year', '!', 'Merry', 'Christmas']"
      ]
     },
     "execution_count": 28,
     "metadata": {},
     "output_type": "execute_result"
    }
   ],
   "source": [
    "punctokenize = tokenize.WordPunctTokenizer()\n",
    "punctokenize.tokenize(msg)"
   ]
  },
  {
   "cell_type": "code",
   "execution_count": 31,
   "metadata": {},
   "outputs": [
    {
     "data": {
      "text/plain": [
       "'!\"#$%&\\'()*+,-./:;<=>?@[\\\\]^_`{|}~'"
      ]
     },
     "execution_count": 31,
     "metadata": {},
     "output_type": "execute_result"
    }
   ],
   "source": [
    "# 파이썬 string 모듈에서 제공하는 구두점\n",
    "import string\n",
    "\n",
    "punctuation = string.punctuation\n",
    "punctuation2 = string.punctuation + '' # 원하는 구두점 추가 가능\n",
    "punctuation"
   ]
  }
 ],
 "metadata": {
  "kernelspec": {
   "display_name": "Torch_NLP38",
   "language": "python",
   "name": "python3"
  },
  "language_info": {
   "codemirror_mode": {
    "name": "ipython",
    "version": 3
   },
   "file_extension": ".py",
   "mimetype": "text/x-python",
   "name": "python",
   "nbconvert_exporter": "python",
   "pygments_lexer": "ipython3",
   "version": "3.8.19"
  }
 },
 "nbformat": 4,
 "nbformat_minor": 2
}
