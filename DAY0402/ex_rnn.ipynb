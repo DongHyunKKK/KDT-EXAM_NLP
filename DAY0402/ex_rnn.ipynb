{
 "cells": [
  {
   "cell_type": "markdown",
   "metadata": {},
   "source": [
    "### [순환신경망 RNN] <hr> "
   ]
  },
  {
   "cell_type": "code",
   "execution_count": 15,
   "metadata": {},
   "outputs": [],
   "source": [
    "import torch\n",
    "import torch.nn as nn"
   ]
  },
  {
   "cell_type": "code",
   "execution_count": 17,
   "metadata": {},
   "outputs": [],
   "source": [
    "# 설계 : 다층 RNN, 층 2개\n",
    "\n",
    "# 입력 초기 텐서 2개\n",
    "input = torch.randn(1, 4, 10)  # (배치크기, 시퀀스(문장의 단어 수), 피처수(단어 표현 벡터 길이))\n",
    "h0 = torch.randn(1, 1, 5)      # (양방향*층수, 배치크기, 은닉상태 사이즈) => 은닉상태 초기화\n",
    "    \n",
    "# RNN 인스턴스\n",
    "rnn = nn.RNN(10, 5, 1, batch_first = True)\n",
    "\n",
    "# 출력 텐서 2개\n",
    "output, hn = rnn(input, h0)"
   ]
  },
  {
   "cell_type": "code",
   "execution_count": 18,
   "metadata": {},
   "outputs": [
    {
     "data": {
      "text/plain": [
       "=================================================================\n",
       "Layer (type:depth-idx)                   Param #\n",
       "=================================================================\n",
       "RNN                                      85\n",
       "=================================================================\n",
       "Total params: 85\n",
       "Trainable params: 85\n",
       "Non-trainable params: 0\n",
       "================================================================="
      ]
     },
     "execution_count": 18,
     "metadata": {},
     "output_type": "execute_result"
    }
   ],
   "source": [
    "from torchinfo import summary\n",
    "summary(rnn)"
   ]
  },
  {
   "cell_type": "code",
   "execution_count": 19,
   "metadata": {},
   "outputs": [
    {
     "name": "stdout",
     "output_type": "stream",
     "text": [
      "[all_weight] - 1개\n",
      "[[Parameter containing:\n",
      "tensor([[-0.3224, -0.1418,  0.4052, -0.0110,  0.1479, -0.1539,  0.2513,  0.1205,\n",
      "          0.3636,  0.1735],\n",
      "        [ 0.1575,  0.2538, -0.3683, -0.4131,  0.0695, -0.0039, -0.3979, -0.0614,\n",
      "          0.2701,  0.0350],\n",
      "        [ 0.3616, -0.3521,  0.4222, -0.0956,  0.1027, -0.0795, -0.4467,  0.3857,\n",
      "          0.3413,  0.1578],\n",
      "        [ 0.0701, -0.0291,  0.1326,  0.0858, -0.3691, -0.4195,  0.1649,  0.3218,\n",
      "          0.3619, -0.1413],\n",
      "        [ 0.1680, -0.1357, -0.1454, -0.3771, -0.2462,  0.3328,  0.3596,  0.2027,\n",
      "          0.0826, -0.3496]], requires_grad=True), Parameter containing:\n",
      "tensor([[ 0.3279,  0.1217, -0.4381, -0.3658,  0.0881],\n",
      "        [ 0.1091, -0.0135, -0.1729,  0.3816,  0.2752],\n",
      "        [ 0.0796,  0.3542, -0.1177,  0.4434,  0.0814],\n",
      "        [ 0.3516, -0.0199, -0.3874,  0.4148,  0.3545],\n",
      "        [ 0.2178,  0.0629,  0.3802,  0.0032, -0.2650]], requires_grad=True), Parameter containing:\n",
      "tensor([ 0.1675,  0.4403, -0.1317, -0.1478,  0.2352], requires_grad=True), Parameter containing:\n",
      "tensor([ 0.0518,  0.2588,  0.4144,  0.1635, -0.2516], requires_grad=True)]]\n"
     ]
    }
   ],
   "source": [
    "# RNN 모델의 속성 출력\n",
    "print(f'[all_weight] - {len(rnn.all_weights)}개')\n",
    "print(rnn.all_weights) "
   ]
  },
  {
   "cell_type": "code",
   "execution_count": 20,
   "metadata": {},
   "outputs": [
    {
     "data": {
      "text/plain": [
       "(torch.Size([5, 4, 5]),\n",
       " 3,\n",
       " tensor([[[ 5.6085e-01,  9.4945e-01, -9.3677e-01,  3.8588e-01, -9.4698e-01],\n",
       "          [ 4.0996e-01, -4.1684e-01, -9.4800e-01, -4.0726e-01,  4.7474e-01],\n",
       "          [ 3.2873e-01,  8.8313e-01,  8.2205e-01, -6.2061e-02, -9.5551e-01],\n",
       "          [-7.0305e-04,  8.8722e-03,  7.7351e-01,  1.2388e-01, -4.6737e-01]],\n",
       " \n",
       "         [[ 8.7874e-01,  9.5629e-01,  9.9482e-01,  9.2626e-01, -4.6630e-01],\n",
       "          [ 7.8179e-01,  9.2788e-01, -7.8786e-01, -3.1325e-01, -9.0800e-01],\n",
       "          [ 3.1930e-01, -5.2312e-01, -9.9555e-01, -4.1501e-01,  9.8211e-01],\n",
       "          [ 8.7049e-01, -3.6190e-01, -7.5540e-01,  5.7641e-01, -3.5746e-01]],\n",
       " \n",
       "         [[-4.7080e-01,  8.0589e-01,  5.4769e-01,  1.0031e-01,  8.5102e-01],\n",
       "          [-6.5642e-01,  9.1403e-01, -3.5373e-01, -8.8430e-01,  5.6918e-01],\n",
       "          [ 6.7310e-01,  3.5495e-01, -7.8594e-01,  9.3930e-01, -2.4043e-01],\n",
       "          [ 9.4396e-01,  9.1079e-01,  8.9717e-01, -3.2196e-02,  5.3892e-02]],\n",
       " \n",
       "         [[-4.9944e-01,  9.3127e-01,  2.1063e-01, -6.4914e-01,  2.8139e-01],\n",
       "          [ 4.1136e-01,  5.1442e-01, -8.0364e-01, -6.6698e-02,  4.0649e-01],\n",
       "          [ 9.7547e-01,  5.9122e-01,  9.8540e-01,  8.3444e-01, -7.1543e-01],\n",
       "          [ 2.6461e-01,  9.4356e-01,  5.0535e-01, -5.0329e-01,  5.7698e-01]],\n",
       " \n",
       "         [[ 1.0607e-01,  8.2836e-01,  5.5281e-01,  7.1483e-01, -8.9705e-02],\n",
       "          [ 9.7465e-01,  7.9611e-01,  1.5489e-01,  6.5770e-01, -8.2247e-01],\n",
       "          [-9.8564e-01,  9.2714e-01,  2.1197e-01,  1.9210e-01,  8.3434e-01],\n",
       "          [ 1.1909e-01,  9.4320e-01,  9.4962e-01,  9.4402e-01,  3.4580e-01]]],\n",
       "        grad_fn=<StackBackward0>))"
      ]
     },
     "execution_count": 20,
     "metadata": {},
     "output_type": "execute_result"
    }
   ],
   "source": [
    "# RNN 출력 텐서 output\n",
    "output.shape, output.ndim, output"
   ]
  },
  {
   "cell_type": "code",
   "execution_count": null,
   "metadata": {},
   "outputs": [],
   "source": []
  }
 ],
 "metadata": {
  "kernelspec": {
   "display_name": "Torch_NLP38",
   "language": "python",
   "name": "python3"
  },
  "language_info": {
   "codemirror_mode": {
    "name": "ipython",
    "version": 3
   },
   "file_extension": ".py",
   "mimetype": "text/x-python",
   "name": "python",
   "nbconvert_exporter": "python",
   "pygments_lexer": "ipython3",
   "version": "3.8.19"
  }
 },
 "nbformat": 4,
 "nbformat_minor": 2
}
